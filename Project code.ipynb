{
 "cells": [
  {
   "cell_type": "code",
   "execution_count": null,
   "metadata": {},
   "outputs": [],
   "source": [
    "import argparse\n",
    "import json"
   ]
  },
  {
   "cell_type": "code",
   "execution_count": null,
   "metadata": {},
   "outputs": [],
   "source": [
    "array=json.load(open('yummly.json')) #Input cuisine data file\n",
    "N=5 #Number of top matched dishes required"
   ]
  },
  {
   "cell_type": "code",
   "execution_count": null,
   "metadata": {},
   "outputs": [],
   "source": [
    "#Take ingredient input from user\n",
    "def input():\n",
    "    parser=argparse.ArgumentParser()\n",
    "    parser.add_argument(\"--ingredient\",type=str,help=\"Enter the list of ingredient you want in\n",
    " the dish\",required=True, action=\"append\")\n",
    "    arg=parser.parse_args()\n",
    "    print('List of users ingredient choice: ',arg.ingredient)\n",
    "    return arg"
   ]
  },
  {
   "cell_type": "code",
   "execution_count": null,
   "metadata": {},
   "outputs": [],
   "source": [
    "#Combining all ingredients into their respective cuisine\n",
    "def training():\n",
    "    cs=[]\n",
    "    csl=[]\n",
    "    for it in array:#[0:10]:\n",
    "        cus = it['cuisine']\n",
    "        if cus in csl:\n",
    "            p = csl.index(cus)\n",
    "            cs[p]=cs[p]+it['ingredients']\n",
    "        else:\n",
    "            csl.append(it['cuisine'])\n",
    "            cs.append(it['ingredients'])\n",
    "    return cs,csl"
   ]
  },
  {
   "cell_type": "code",
   "execution_count": null,
   "metadata": {},
   "outputs": [],
   "source": [
    "#Predict the nearest cosine distance cuisine for input ingredients\n",
    "def predict_cusine(ingre_input,All_cuisine_ingre_list,cuisine_list):\n",
    "    cosine=[]\n",
    "    i=0\n",
    "    smax=0\n",
    "    index=-1\n",
    "    total=0\n",
    "    cs=All_cuisine_ingre_list\n",
    "    csl=cuisine_list\n",
    "    arg=ingre_input\n",
    "    for cus in cs:\n",
    "        cosine.append([])\n",
    "        cosine[i] = cosine[i]+[cus.count(ing) for ing in arg.ingredient]\n",
    "        if sum(cosine[i])>smax:\n",
    "            smax=sum(cosine[i])\n",
    "            index=i\n",
    "        total=total+sum(cosine[i])\n",
    "        i=i+1\n",
    "    fcus=csl[index]\n",
    "    if index>=0:\n",
    "        print('Cuisine:  ',fcus, ' (',round(smax/total,2),')')\n",
    "    else:\n",
    "        print(\"These ingredients are not present in any dish, kindly be a human!\")\n",
    "    return arg,fcus,total"
   ]
  },
  {
   "cell_type": "code",
   "execution_count": null,
   "metadata": {},
   "outputs": [],
   "source": [
    "#Returns top dishes that best match the predicted cuisine\n",
    "def predict_top_dish(ingre_input,matched_cuisine,total_match):\n",
    "    mcus=[]\n",
    "    arg=ingre_input\n",
    "    fcus=matched_cuisine\n",
    "    total=total_match\n",
    "    for it in array[0:10]:\n",
    "        cus = it['cuisine']\n",
    "        cing = it['ingredients']\n",
    "        cid = it['id']\n",
    "        d=0\n",
    "        v=[]\n",
    "        if cus==fcus:\n",
    "            for ing in arg.ingredient:\n",
    "                if ing in cing:\n",
    "                    d=d+1\n",
    "            d=round(d/total,2)\n",
    "            v=(cid,d)\n",
    "            mcus.append(v)\n",
    "    mcus.sort(key=lambda x:x[1],reverse=True)\n",
    "    print(mcus[0:N])"
   ]
  },
  {
   "cell_type": "code",
   "execution_count": null,
   "metadata": {},
   "outputs": [],
   "source": [
    "a=input()\n",
    "b,c=training()\n",
    "d,e,f=predict_cusine(a,b,c)\n",
    "predict_top_dish(d,e,f)"
   ]
  }
 ],
 "metadata": {
  "kernelspec": {
   "display_name": "Python 3",
   "language": "python",
   "name": "python3"
  },
  "language_info": {
   "codemirror_mode": {
    "name": "ipython",
    "version": 3
   },
   "file_extension": ".py",
   "mimetype": "text/x-python",
   "name": "python",
   "nbconvert_exporter": "python",
   "pygments_lexer": "ipython3",
   "version": "3.7.3"
  }
 },
 "nbformat": 4,
 "nbformat_minor": 2
}
